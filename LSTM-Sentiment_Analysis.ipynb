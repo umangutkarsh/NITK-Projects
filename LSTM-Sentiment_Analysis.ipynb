{
 "cells": [
  {
   "cell_type": "code",
   "execution_count": 1,
   "id": "783e886a",
   "metadata": {},
   "outputs": [],
   "source": [
    "import numpy as np\n",
    "import pandas as pd\n",
    "import matplotlib.pyplot as plt\n",
    "import seaborn as sns\n",
    "import re\n",
    "from sklearn.model_selection import train_test_split\n",
    "from tensorflow.keras.models import Sequential, load_model\n",
    "from tensorflow.keras.layers import LSTM, Dense, Embedding, Dropout\n",
    "from tensorflow.keras.preprocessing.text import Tokenizer\n",
    "from tensorflow.keras.preprocessing.sequence import pad_sequences"
   ]
  },
  {
   "cell_type": "code",
   "execution_count": 2,
   "id": "b04009fd",
   "metadata": {},
   "outputs": [],
   "source": [
    "dataset = pd.read_csv(r'C:\\Users\\UMANG\\Downloads\\Py_DS_ML_Bootcamp-master\\Refactored_Py_DS_ML_Bootcamp-master\\22-Deep Learning\\TensorFlow_FILES\\TensorFlow_FILES\\Notebooks\\Tweets.csv')"
   ]
  },
  {
   "cell_type": "code",
   "execution_count": 3,
   "id": "1615c824",
   "metadata": {},
   "outputs": [
    {
     "data": {
      "text/html": [
       "<div>\n",
       "<style scoped>\n",
       "    .dataframe tbody tr th:only-of-type {\n",
       "        vertical-align: middle;\n",
       "    }\n",
       "\n",
       "    .dataframe tbody tr th {\n",
       "        vertical-align: top;\n",
       "    }\n",
       "\n",
       "    .dataframe thead th {\n",
       "        text-align: right;\n",
       "    }\n",
       "</style>\n",
       "<table border=\"1\" class=\"dataframe\">\n",
       "  <thead>\n",
       "    <tr style=\"text-align: right;\">\n",
       "      <th></th>\n",
       "      <th>tweet_id</th>\n",
       "      <th>airline_sentiment</th>\n",
       "      <th>airline_sentiment_confidence</th>\n",
       "      <th>negativereason</th>\n",
       "      <th>negativereason_confidence</th>\n",
       "      <th>airline</th>\n",
       "      <th>airline_sentiment_gold</th>\n",
       "      <th>name</th>\n",
       "      <th>negativereason_gold</th>\n",
       "      <th>retweet_count</th>\n",
       "      <th>text</th>\n",
       "      <th>tweet_coord</th>\n",
       "      <th>tweet_created</th>\n",
       "      <th>tweet_location</th>\n",
       "      <th>user_timezone</th>\n",
       "    </tr>\n",
       "  </thead>\n",
       "  <tbody>\n",
       "    <tr>\n",
       "      <th>0</th>\n",
       "      <td>570306133677760513</td>\n",
       "      <td>neutral</td>\n",
       "      <td>1.0000</td>\n",
       "      <td>NaN</td>\n",
       "      <td>NaN</td>\n",
       "      <td>Virgin America</td>\n",
       "      <td>NaN</td>\n",
       "      <td>cairdin</td>\n",
       "      <td>NaN</td>\n",
       "      <td>0</td>\n",
       "      <td>@VirginAmerica What @dhepburn said.</td>\n",
       "      <td>NaN</td>\n",
       "      <td>2015-02-24 11:35:52 -0800</td>\n",
       "      <td>NaN</td>\n",
       "      <td>Eastern Time (US &amp; Canada)</td>\n",
       "    </tr>\n",
       "    <tr>\n",
       "      <th>1</th>\n",
       "      <td>570301130888122368</td>\n",
       "      <td>positive</td>\n",
       "      <td>0.3486</td>\n",
       "      <td>NaN</td>\n",
       "      <td>0.0000</td>\n",
       "      <td>Virgin America</td>\n",
       "      <td>NaN</td>\n",
       "      <td>jnardino</td>\n",
       "      <td>NaN</td>\n",
       "      <td>0</td>\n",
       "      <td>@VirginAmerica plus you've added commercials t...</td>\n",
       "      <td>NaN</td>\n",
       "      <td>2015-02-24 11:15:59 -0800</td>\n",
       "      <td>NaN</td>\n",
       "      <td>Pacific Time (US &amp; Canada)</td>\n",
       "    </tr>\n",
       "    <tr>\n",
       "      <th>2</th>\n",
       "      <td>570301083672813571</td>\n",
       "      <td>neutral</td>\n",
       "      <td>0.6837</td>\n",
       "      <td>NaN</td>\n",
       "      <td>NaN</td>\n",
       "      <td>Virgin America</td>\n",
       "      <td>NaN</td>\n",
       "      <td>yvonnalynn</td>\n",
       "      <td>NaN</td>\n",
       "      <td>0</td>\n",
       "      <td>@VirginAmerica I didn't today... Must mean I n...</td>\n",
       "      <td>NaN</td>\n",
       "      <td>2015-02-24 11:15:48 -0800</td>\n",
       "      <td>Lets Play</td>\n",
       "      <td>Central Time (US &amp; Canada)</td>\n",
       "    </tr>\n",
       "    <tr>\n",
       "      <th>3</th>\n",
       "      <td>570301031407624196</td>\n",
       "      <td>negative</td>\n",
       "      <td>1.0000</td>\n",
       "      <td>Bad Flight</td>\n",
       "      <td>0.7033</td>\n",
       "      <td>Virgin America</td>\n",
       "      <td>NaN</td>\n",
       "      <td>jnardino</td>\n",
       "      <td>NaN</td>\n",
       "      <td>0</td>\n",
       "      <td>@VirginAmerica it's really aggressive to blast...</td>\n",
       "      <td>NaN</td>\n",
       "      <td>2015-02-24 11:15:36 -0800</td>\n",
       "      <td>NaN</td>\n",
       "      <td>Pacific Time (US &amp; Canada)</td>\n",
       "    </tr>\n",
       "    <tr>\n",
       "      <th>4</th>\n",
       "      <td>570300817074462722</td>\n",
       "      <td>negative</td>\n",
       "      <td>1.0000</td>\n",
       "      <td>Can't Tell</td>\n",
       "      <td>1.0000</td>\n",
       "      <td>Virgin America</td>\n",
       "      <td>NaN</td>\n",
       "      <td>jnardino</td>\n",
       "      <td>NaN</td>\n",
       "      <td>0</td>\n",
       "      <td>@VirginAmerica and it's a really big bad thing...</td>\n",
       "      <td>NaN</td>\n",
       "      <td>2015-02-24 11:14:45 -0800</td>\n",
       "      <td>NaN</td>\n",
       "      <td>Pacific Time (US &amp; Canada)</td>\n",
       "    </tr>\n",
       "  </tbody>\n",
       "</table>\n",
       "</div>"
      ],
      "text/plain": [
       "             tweet_id airline_sentiment  airline_sentiment_confidence  \\\n",
       "0  570306133677760513           neutral                        1.0000   \n",
       "1  570301130888122368          positive                        0.3486   \n",
       "2  570301083672813571           neutral                        0.6837   \n",
       "3  570301031407624196          negative                        1.0000   \n",
       "4  570300817074462722          negative                        1.0000   \n",
       "\n",
       "  negativereason  negativereason_confidence         airline  \\\n",
       "0            NaN                        NaN  Virgin America   \n",
       "1            NaN                     0.0000  Virgin America   \n",
       "2            NaN                        NaN  Virgin America   \n",
       "3     Bad Flight                     0.7033  Virgin America   \n",
       "4     Can't Tell                     1.0000  Virgin America   \n",
       "\n",
       "  airline_sentiment_gold        name negativereason_gold  retweet_count  \\\n",
       "0                    NaN     cairdin                 NaN              0   \n",
       "1                    NaN    jnardino                 NaN              0   \n",
       "2                    NaN  yvonnalynn                 NaN              0   \n",
       "3                    NaN    jnardino                 NaN              0   \n",
       "4                    NaN    jnardino                 NaN              0   \n",
       "\n",
       "                                                text tweet_coord  \\\n",
       "0                @VirginAmerica What @dhepburn said.         NaN   \n",
       "1  @VirginAmerica plus you've added commercials t...         NaN   \n",
       "2  @VirginAmerica I didn't today... Must mean I n...         NaN   \n",
       "3  @VirginAmerica it's really aggressive to blast...         NaN   \n",
       "4  @VirginAmerica and it's a really big bad thing...         NaN   \n",
       "\n",
       "               tweet_created tweet_location               user_timezone  \n",
       "0  2015-02-24 11:35:52 -0800            NaN  Eastern Time (US & Canada)  \n",
       "1  2015-02-24 11:15:59 -0800            NaN  Pacific Time (US & Canada)  \n",
       "2  2015-02-24 11:15:48 -0800      Lets Play  Central Time (US & Canada)  \n",
       "3  2015-02-24 11:15:36 -0800            NaN  Pacific Time (US & Canada)  \n",
       "4  2015-02-24 11:14:45 -0800            NaN  Pacific Time (US & Canada)  "
      ]
     },
     "execution_count": 3,
     "metadata": {},
     "output_type": "execute_result"
    }
   ],
   "source": [
    "dataset.head()"
   ]
  },
  {
   "cell_type": "code",
   "execution_count": 4,
   "id": "32a50842",
   "metadata": {},
   "outputs": [
    {
     "data": {
      "text/plain": [
       "United            3822\n",
       "US Airways        2913\n",
       "American          2759\n",
       "Southwest         2420\n",
       "Delta             2222\n",
       "Virgin America     504\n",
       "Name: airline, dtype: int64"
      ]
     },
     "execution_count": 4,
     "metadata": {},
     "output_type": "execute_result"
    }
   ],
   "source": [
    "dataset['airline'].value_counts()"
   ]
  },
  {
   "cell_type": "code",
   "execution_count": 5,
   "id": "7ceeb322",
   "metadata": {},
   "outputs": [
    {
     "data": {
      "text/html": [
       "<div>\n",
       "<style scoped>\n",
       "    .dataframe tbody tr th:only-of-type {\n",
       "        vertical-align: middle;\n",
       "    }\n",
       "\n",
       "    .dataframe tbody tr th {\n",
       "        vertical-align: top;\n",
       "    }\n",
       "\n",
       "    .dataframe thead th {\n",
       "        text-align: right;\n",
       "    }\n",
       "</style>\n",
       "<table border=\"1\" class=\"dataframe\">\n",
       "  <thead>\n",
       "    <tr style=\"text-align: right;\">\n",
       "      <th></th>\n",
       "      <th>tweet_id</th>\n",
       "      <th>airline_sentiment</th>\n",
       "      <th>airline_sentiment_confidence</th>\n",
       "      <th>negativereason</th>\n",
       "      <th>negativereason_confidence</th>\n",
       "      <th>airline</th>\n",
       "      <th>airline_sentiment_gold</th>\n",
       "      <th>name</th>\n",
       "      <th>negativereason_gold</th>\n",
       "      <th>retweet_count</th>\n",
       "      <th>text</th>\n",
       "      <th>tweet_coord</th>\n",
       "      <th>tweet_created</th>\n",
       "      <th>tweet_location</th>\n",
       "      <th>user_timezone</th>\n",
       "    </tr>\n",
       "  </thead>\n",
       "  <tbody>\n",
       "    <tr>\n",
       "      <th>0</th>\n",
       "      <td>569763359278505984</td>\n",
       "      <td>neutral</td>\n",
       "      <td>1.0000</td>\n",
       "      <td>NaN</td>\n",
       "      <td>NaN</td>\n",
       "      <td>United</td>\n",
       "      <td>NaN</td>\n",
       "      <td>manuel261984</td>\n",
       "      <td>NaN</td>\n",
       "      <td>0</td>\n",
       "      <td>@united whats UA 1205 lax - newark ??</td>\n",
       "      <td>NaN</td>\n",
       "      <td>2015-02-22 23:39:05 -0800</td>\n",
       "      <td>NaN</td>\n",
       "      <td>Mexico City</td>\n",
       "    </tr>\n",
       "    <tr>\n",
       "      <th>1</th>\n",
       "      <td>568918313239064576</td>\n",
       "      <td>negative</td>\n",
       "      <td>1.0000</td>\n",
       "      <td>Customer Service Issue</td>\n",
       "      <td>1.0000</td>\n",
       "      <td>Southwest</td>\n",
       "      <td>NaN</td>\n",
       "      <td>davidgoodson71</td>\n",
       "      <td>NaN</td>\n",
       "      <td>2</td>\n",
       "      <td>@SouthwestAir @JulGood1 she was traveling with...</td>\n",
       "      <td>NaN</td>\n",
       "      <td>2015-02-20 15:41:10 -0800</td>\n",
       "      <td>NaN</td>\n",
       "      <td>NaN</td>\n",
       "    </tr>\n",
       "    <tr>\n",
       "      <th>2</th>\n",
       "      <td>568851381769134080</td>\n",
       "      <td>positive</td>\n",
       "      <td>0.6639</td>\n",
       "      <td>NaN</td>\n",
       "      <td>NaN</td>\n",
       "      <td>Delta</td>\n",
       "      <td>NaN</td>\n",
       "      <td>JPopsie</td>\n",
       "      <td>NaN</td>\n",
       "      <td>0</td>\n",
       "      <td>@JetBlue I'll see you on board again soon!</td>\n",
       "      <td>NaN</td>\n",
       "      <td>2015-02-20 11:15:12 -0800</td>\n",
       "      <td>Global</td>\n",
       "      <td>Eastern Time (US &amp; Canada)</td>\n",
       "    </tr>\n",
       "    <tr>\n",
       "      <th>3</th>\n",
       "      <td>569880788612866048</td>\n",
       "      <td>negative</td>\n",
       "      <td>1.0000</td>\n",
       "      <td>Late Flight</td>\n",
       "      <td>1.0000</td>\n",
       "      <td>Southwest</td>\n",
       "      <td>NaN</td>\n",
       "      <td>ucsigmachi</td>\n",
       "      <td>NaN</td>\n",
       "      <td>0</td>\n",
       "      <td>@SouthwestAir flight 1028 no delayed 1.5 hours...</td>\n",
       "      <td>NaN</td>\n",
       "      <td>2015-02-23 07:25:42 -0800</td>\n",
       "      <td>NaN</td>\n",
       "      <td>NaN</td>\n",
       "    </tr>\n",
       "    <tr>\n",
       "      <th>4</th>\n",
       "      <td>569077393886810112</td>\n",
       "      <td>negative</td>\n",
       "      <td>1.0000</td>\n",
       "      <td>Flight Attendant Complaints</td>\n",
       "      <td>0.3404</td>\n",
       "      <td>United</td>\n",
       "      <td>NaN</td>\n",
       "      <td>DaRenton</td>\n",
       "      <td>NaN</td>\n",
       "      <td>0</td>\n",
       "      <td>@united typically once you get the problem fix...</td>\n",
       "      <td>NaN</td>\n",
       "      <td>2015-02-21 02:13:18 -0800</td>\n",
       "      <td>Colorado</td>\n",
       "      <td>Mountain Time (US &amp; Canada)</td>\n",
       "    </tr>\n",
       "  </tbody>\n",
       "</table>\n",
       "</div>"
      ],
      "text/plain": [
       "             tweet_id airline_sentiment  airline_sentiment_confidence  \\\n",
       "0  569763359278505984           neutral                        1.0000   \n",
       "1  568918313239064576          negative                        1.0000   \n",
       "2  568851381769134080          positive                        0.6639   \n",
       "3  569880788612866048          negative                        1.0000   \n",
       "4  569077393886810112          negative                        1.0000   \n",
       "\n",
       "                negativereason  negativereason_confidence    airline  \\\n",
       "0                          NaN                        NaN     United   \n",
       "1       Customer Service Issue                     1.0000  Southwest   \n",
       "2                          NaN                        NaN      Delta   \n",
       "3                  Late Flight                     1.0000  Southwest   \n",
       "4  Flight Attendant Complaints                     0.3404     United   \n",
       "\n",
       "  airline_sentiment_gold            name negativereason_gold  retweet_count  \\\n",
       "0                    NaN    manuel261984                 NaN              0   \n",
       "1                    NaN  davidgoodson71                 NaN              2   \n",
       "2                    NaN         JPopsie                 NaN              0   \n",
       "3                    NaN      ucsigmachi                 NaN              0   \n",
       "4                    NaN        DaRenton                 NaN              0   \n",
       "\n",
       "                                                text tweet_coord  \\\n",
       "0              @united whats UA 1205 lax - newark ??         NaN   \n",
       "1  @SouthwestAir @JulGood1 she was traveling with...         NaN   \n",
       "2         @JetBlue I'll see you on board again soon!         NaN   \n",
       "3  @SouthwestAir flight 1028 no delayed 1.5 hours...         NaN   \n",
       "4  @united typically once you get the problem fix...         NaN   \n",
       "\n",
       "               tweet_created tweet_location                user_timezone  \n",
       "0  2015-02-22 23:39:05 -0800            NaN                  Mexico City  \n",
       "1  2015-02-20 15:41:10 -0800            NaN                          NaN  \n",
       "2  2015-02-20 11:15:12 -0800         Global   Eastern Time (US & Canada)  \n",
       "3  2015-02-23 07:25:42 -0800            NaN                          NaN  \n",
       "4  2015-02-21 02:13:18 -0800       Colorado  Mountain Time (US & Canada)  "
      ]
     },
     "execution_count": 5,
     "metadata": {},
     "output_type": "execute_result"
    }
   ],
   "source": [
    "dataset = dataset.sample(frac=1).reset_index(drop=True)\n",
    "dataset.head()"
   ]
  },
  {
   "cell_type": "code",
   "execution_count": 6,
   "id": "2072f4da",
   "metadata": {},
   "outputs": [
    {
     "data": {
      "text/plain": [
       "(14640, 15)"
      ]
     },
     "execution_count": 6,
     "metadata": {},
     "output_type": "execute_result"
    }
   ],
   "source": [
    "dataset.shape"
   ]
  },
  {
   "cell_type": "code",
   "execution_count": 7,
   "id": "fa34985a",
   "metadata": {},
   "outputs": [],
   "source": [
    "#airline_sentiment coloumn to be pedicted --> To be predicted\n",
    "#We'll also require the text column in order to get to know what the specific customer tweeted about the airline --> Input of neural network"
   ]
  },
  {
   "cell_type": "code",
   "execution_count": 8,
   "id": "63e49637",
   "metadata": {},
   "outputs": [
    {
     "data": {
      "text/html": [
       "<div>\n",
       "<style scoped>\n",
       "    .dataframe tbody tr th:only-of-type {\n",
       "        vertical-align: middle;\n",
       "    }\n",
       "\n",
       "    .dataframe tbody tr th {\n",
       "        vertical-align: top;\n",
       "    }\n",
       "\n",
       "    .dataframe thead th {\n",
       "        text-align: right;\n",
       "    }\n",
       "</style>\n",
       "<table border=\"1\" class=\"dataframe\">\n",
       "  <thead>\n",
       "    <tr style=\"text-align: right;\">\n",
       "      <th></th>\n",
       "      <th>airline_sentiment</th>\n",
       "      <th>text</th>\n",
       "    </tr>\n",
       "  </thead>\n",
       "  <tbody>\n",
       "    <tr>\n",
       "      <th>0</th>\n",
       "      <td>neutral</td>\n",
       "      <td>@united whats UA 1205 lax - newark ??</td>\n",
       "    </tr>\n",
       "    <tr>\n",
       "      <th>1</th>\n",
       "      <td>negative</td>\n",
       "      <td>@SouthwestAir @JulGood1 she was traveling with...</td>\n",
       "    </tr>\n",
       "    <tr>\n",
       "      <th>2</th>\n",
       "      <td>positive</td>\n",
       "      <td>@JetBlue I'll see you on board again soon!</td>\n",
       "    </tr>\n",
       "    <tr>\n",
       "      <th>3</th>\n",
       "      <td>negative</td>\n",
       "      <td>@SouthwestAir flight 1028 no delayed 1.5 hours...</td>\n",
       "    </tr>\n",
       "    <tr>\n",
       "      <th>4</th>\n",
       "      <td>negative</td>\n",
       "      <td>@united typically once you get the problem fix...</td>\n",
       "    </tr>\n",
       "    <tr>\n",
       "      <th>...</th>\n",
       "      <td>...</td>\n",
       "      <td>...</td>\n",
       "    </tr>\n",
       "    <tr>\n",
       "      <th>14635</th>\n",
       "      <td>negative</td>\n",
       "      <td>@AmericanAir Fuck you.</td>\n",
       "    </tr>\n",
       "    <tr>\n",
       "      <th>14636</th>\n",
       "      <td>negative</td>\n",
       "      <td>@USAirways we've now learned to never fly with...</td>\n",
       "    </tr>\n",
       "    <tr>\n",
       "      <th>14637</th>\n",
       "      <td>negative</td>\n",
       "      <td>@united yep that's correct, I got an email at ...</td>\n",
       "    </tr>\n",
       "    <tr>\n",
       "      <th>14638</th>\n",
       "      <td>neutral</td>\n",
       "      <td>@AmericanAir I know. Just a little cold weathe...</td>\n",
       "    </tr>\n",
       "    <tr>\n",
       "      <th>14639</th>\n",
       "      <td>negative</td>\n",
       "      <td>@USAirways and @FlyKnoxville - bad weather sho...</td>\n",
       "    </tr>\n",
       "  </tbody>\n",
       "</table>\n",
       "<p>14640 rows × 2 columns</p>\n",
       "</div>"
      ],
      "text/plain": [
       "      airline_sentiment                                               text\n",
       "0               neutral              @united whats UA 1205 lax - newark ??\n",
       "1              negative  @SouthwestAir @JulGood1 she was traveling with...\n",
       "2              positive         @JetBlue I'll see you on board again soon!\n",
       "3              negative  @SouthwestAir flight 1028 no delayed 1.5 hours...\n",
       "4              negative  @united typically once you get the problem fix...\n",
       "...                 ...                                                ...\n",
       "14635          negative                             @AmericanAir Fuck you.\n",
       "14636          negative  @USAirways we've now learned to never fly with...\n",
       "14637          negative  @united yep that's correct, I got an email at ...\n",
       "14638           neutral  @AmericanAir I know. Just a little cold weathe...\n",
       "14639          negative  @USAirways and @FlyKnoxville - bad weather sho...\n",
       "\n",
       "[14640 rows x 2 columns]"
      ]
     },
     "execution_count": 8,
     "metadata": {},
     "output_type": "execute_result"
    }
   ],
   "source": [
    "dataset = dataset[['airline_sentiment', 'text']]\n",
    "dataset"
   ]
  },
  {
   "cell_type": "code",
   "execution_count": 9,
   "id": "40649629",
   "metadata": {},
   "outputs": [],
   "source": [
    "%matplotlib inline"
   ]
  },
  {
   "cell_type": "code",
   "execution_count": 10,
   "id": "aa873ed5",
   "metadata": {},
   "outputs": [
    {
     "data": {
      "text/plain": [
       "0         37\n",
       "1         87\n",
       "2         42\n",
       "3         84\n",
       "4        121\n",
       "        ... \n",
       "14635     22\n",
       "14636    132\n",
       "14637    146\n",
       "14638     57\n",
       "14639    133\n",
       "Name: text, Length: 14640, dtype: int64"
      ]
     },
     "execution_count": 10,
     "metadata": {},
     "output_type": "execute_result"
    }
   ],
   "source": [
    "dataset['text'].str.len()"
   ]
  },
  {
   "cell_type": "code",
   "execution_count": 11,
   "id": "692d00ae",
   "metadata": {},
   "outputs": [
    {
     "data": {
      "text/plain": [
       "<AxesSubplot:ylabel='Frequency'>"
      ]
     },
     "execution_count": 11,
     "metadata": {},
     "output_type": "execute_result"
    },
    {
     "data": {
      "image/png": "[encoded data removed]",
      "text/plain": [
       "<Figure size 432x288 with 1 Axes>"
      ]
     },
     "metadata": {
      "needs_background": "light"
     },
     "output_type": "display_data"
    }
   ],
   "source": [
    "dataset['text'].str.len().plot.hist()"
   ]
  },
  {
   "cell_type": "code",
   "execution_count": 12,
   "id": "49731fa7",
   "metadata": {},
   "outputs": [
    {
     "data": {
      "text/plain": [
       "negative    9178\n",
       "neutral     3099\n",
       "positive    2363\n",
       "Name: airline_sentiment, dtype: int64"
      ]
     },
     "execution_count": 12,
     "metadata": {},
     "output_type": "execute_result"
    }
   ],
   "source": [
    "dataset['airline_sentiment'].value_counts()"
   ]
  },
  {
   "cell_type": "code",
   "execution_count": 13,
   "id": "8f78f35f",
   "metadata": {},
   "outputs": [
    {
     "data": {
      "text/plain": [
       "<AxesSubplot:>"
      ]
     },
     "execution_count": 13,
     "metadata": {},
     "output_type": "execute_result"
    },
    {
     "data": {
      "image/png": "[encoded data removed]",
      "text/plain": [
       "<Figure size 432x288 with 1 Axes>"
      ]
     },
     "metadata": {
      "needs_background": "light"
     },
     "output_type": "display_data"
    }
   ],
   "source": [
    "dataset['airline_sentiment'].value_counts().plot.bar()"
   ]
  },
  {
   "cell_type": "code",
   "execution_count": 14,
   "id": "c7cb8278",
   "metadata": {},
   "outputs": [],
   "source": [
    "#Getting rid of symbols which are not useful, and converting the uppercase letters to lowercase"
   ]
  },
  {
   "cell_type": "code",
   "execution_count": 15,
   "id": "7aa77f6f",
   "metadata": {},
   "outputs": [
    {
     "data": {
      "text/plain": [
       "0                    @united whats ua 1205 lax - newark ??\n",
       "1        @southwestair @julgood1 she was traveling with...\n",
       "2               @jetblue i'll see you on board again soon!\n",
       "3        @southwestair flight 1028 no delayed 1.5 hours...\n",
       "4        @united typically once you get the problem fix...\n",
       "                               ...                        \n",
       "14635                               @americanair fuck you.\n",
       "14636    @usairways we've now learned to never fly with...\n",
       "14637    @united yep that's correct, i got an email at ...\n",
       "14638    @americanair i know. just a little cold weathe...\n",
       "14639    @usairways and @flyknoxville - bad weather sho...\n",
       "Name: text, Length: 14640, dtype: object"
      ]
     },
     "execution_count": 15,
     "metadata": {},
     "output_type": "execute_result"
    }
   ],
   "source": [
    "dataset['text'] = dataset['text'].apply(lambda x: x.lower())\n",
    "dataset['text']"
   ]
  },
  {
   "cell_type": "code",
   "execution_count": 16,
   "id": "85b80669",
   "metadata": {},
   "outputs": [],
   "source": [
    "#Getting rid of the symbols with the help of Regular Expressions(Regex)"
   ]
  },
  {
   "cell_type": "code",
   "execution_count": 17,
   "id": "e1017403",
   "metadata": {},
   "outputs": [
    {
     "data": {
      "text/plain": [
       "0                        united whats ua 1205 lax  newark \n",
       "1        southwestair julgood1 she was traveling with m...\n",
       "2                  jetblue ill see you on board again soon\n",
       "3        southwestair flight 1028 no delayed 15 hours  ...\n",
       "4        united typically once you get the problem fixe...\n",
       "                               ...                        \n",
       "14635                                 americanair fuck you\n",
       "14636    usairways weve now learned to never fly with u...\n",
       "14637    united yep thats correct i got an email at 123...\n",
       "14638    americanair i know just a little cold weather ...\n",
       "14639    usairways and flyknoxville  bad weather should...\n",
       "Name: text, Length: 14640, dtype: object"
      ]
     },
     "execution_count": 17,
     "metadata": {},
     "output_type": "execute_result"
    }
   ],
   "source": [
    "dataset['text'] = dataset['text'].apply(lambda text : re.sub('[^a-zA-Z0-9\\s]',\"\",text))\n",
    "dataset['text']"
   ]
  },
  {
   "cell_type": "code",
   "execution_count": 18,
   "id": "55576df9",
   "metadata": {},
   "outputs": [],
   "source": [
    "#Converting the text to numbers so that the neural networks can deal with it --> Tokenizer will help with this"
   ]
  },
  {
   "cell_type": "code",
   "execution_count": 19,
   "id": "adb78f14",
   "metadata": {},
   "outputs": [
    {
     "data": {
      "text/plain": [
       "array(['united whats ua 1205 lax  newark ',\n",
       "       'southwestair julgood1 she was traveling with me the one that got miscommunicated with',\n",
       "       'jetblue ill see you on board again soon', ...,\n",
       "       'united yep thats correct i got an email at 1230 am that the flight was cancelled flightled doesnt matter now flight into atl is delayed thx',\n",
       "       'americanair i know just a little cold weather humor ',\n",
       "       'usairways and flyknoxville  bad weather should not be an excuse for not following established luggage procedures noclothesnoinfo'],\n",
       "      dtype=object)"
      ]
     },
     "execution_count": 19,
     "metadata": {},
     "output_type": "execute_result"
    }
   ],
   "source": [
    "dataset['text'].values"
   ]
  },
  {
   "cell_type": "code",
   "execution_count": 20,
   "id": "7051154c",
   "metadata": {},
   "outputs": [],
   "source": [
    "tokenizer = Tokenizer(num_words=5000, split=\" \")\n",
    "tokenizer.fit_on_texts(dataset['text'].values)"
   ]
  },
  {
   "cell_type": "code",
   "execution_count": 21,
   "id": "a276de1e",
   "metadata": {},
   "outputs": [],
   "source": [
    "#Converting the words to numbers using the text-to-sequence method, and\n",
    "#Using pad_sequences to make the tweets of same length"
   ]
  },
  {
   "cell_type": "code",
   "execution_count": 22,
   "id": "3accbb83",
   "metadata": {},
   "outputs": [],
   "source": [
    "X = tokenizer.texts_to_sequences(dataset['text'].values)\n",
    "X = pad_sequences(X)"
   ]
  },
  {
   "cell_type": "code",
   "execution_count": 23,
   "id": "09a26c05",
   "metadata": {},
   "outputs": [
    {
     "data": {
      "text/plain": [
       "array([[   0,    0,    0,    0,    0,    0,    0,    0,    0,    0,    0,\n",
       "           0,    0,    0,    0,    0,    0,    0,    0,    0,    0,    0,\n",
       "           0,    0,    0,    0,    0,    0,    5,  240,  528,  297,  529],\n",
       "       [   0,    0,    0,    0,    0,    0,    0,    0,    0,    0,    0,\n",
       "           0,    0,    0,    0,    0,    0,    0,    0,    0,    0,    0,\n",
       "          16,  185,   23,  526,   25,   19,    2,   74,   26,   92,   25],\n",
       "       [   0,    0,    0,    0,    0,    0,    0,    0,    0,    0,    0,\n",
       "           0,    0,    0,    0,    0,    0,    0,    0,    0,    0,    0,\n",
       "           0,    0,    0,   17,  218,  152,    6,    9,  312,  103,  501],\n",
       "       [   0,    0,    0,    0,    0,    0,    0,    0,    0,    0,    0,\n",
       "           0,    0,    0,    0,    0,    0,    0,    0,    0,    0,    0,\n",
       "          16,    8,   28,   77,  357,   56,  143,  301,  143,   77,    8],\n",
       "       [   0,    0,    0,    0,    0,    0,    0,    0,    0,    0,    0,\n",
       "           0,    0,    5, 4598,  473,    6,   30,    2,  325,  837,  115,\n",
       "           2,  176, 2054,   10,    2,  134, 1784,  234,    4,   37,    8],\n",
       "       [   0,    0,    0,    0,    0,    0,    0,    0,    0,    0,    0,\n",
       "           0,    0,    0,    0,    0,    0,    0,    0,    0,    0,    0,\n",
       "           0,    0,    5,  263,   14,   44,  909,   10,   44, 2718, 3665]])"
      ]
     },
     "execution_count": 23,
     "metadata": {},
     "output_type": "execute_result"
    }
   ],
   "source": [
    "X[:6]"
   ]
  },
  {
   "cell_type": "code",
   "execution_count": 24,
   "id": "be82bf46",
   "metadata": {},
   "outputs": [],
   "source": [
    "#All the arrays are of same length since they are now padded with zeroes"
   ]
  },
  {
   "cell_type": "code",
   "execution_count": 25,
   "id": "64bb59de",
   "metadata": {},
   "outputs": [
    {
     "data": {
      "text/plain": [
       "(14640, 33)"
      ]
     },
     "execution_count": 25,
     "metadata": {},
     "output_type": "execute_result"
    }
   ],
   "source": [
    "X.shape"
   ]
  },
  {
   "cell_type": "code",
   "execution_count": 26,
   "id": "fba35df4",
   "metadata": {},
   "outputs": [],
   "source": [
    "model = Sequential()\n",
    "\n",
    "model.add(Embedding(5000, 256, input_length = X.shape[1]))\n",
    "model.add(Dropout(0.3))\n",
    "model.add(LSTM(256, return_sequences=True, dropout = 0.3, recurrent_dropout = 0.2))\n",
    "model.add(LSTM(256, dropout = 0.3, recurrent_dropout = 0.2))\n",
    "model.add(Dense(3, activation = 'softmax'))"
   ]
  },
  {
   "cell_type": "code",
   "execution_count": 27,
   "id": "ee7741d9",
   "metadata": {},
   "outputs": [],
   "source": [
    "#Softmax function is used since it is a classification problem"
   ]
  },
  {
   "cell_type": "code",
   "execution_count": 28,
   "id": "60471a80",
   "metadata": {},
   "outputs": [
    {
     "name": "stdout",
     "output_type": "stream",
     "text": [
      "Model: \"sequential\"\n",
      "_________________________________________________________________\n",
      "Layer (type)                 Output Shape              Param #   \n",
      "=================================================================\n",
      "embedding (Embedding)        (None, 33, 256)           1280000   \n",
      "_________________________________________________________________\n",
      "dropout (Dropout)            (None, 33, 256)           0         \n",
      "_________________________________________________________________\n",
      "lstm (LSTM)                  (None, 33, 256)           525312    \n",
      "_________________________________________________________________\n",
      "lstm_1 (LSTM)                (None, 256)               525312    \n",
      "_________________________________________________________________\n",
      "dense (Dense)                (None, 3)                 771       \n",
      "=================================================================\n",
      "Total params: 2,331,395\n",
      "Trainable params: 2,331,395\n",
      "Non-trainable params: 0\n",
      "_________________________________________________________________\n"
     ]
    }
   ],
   "source": [
    "model.compile(loss='categorical_crossentropy', optimizer='adam', metrics=['accuracy'])\n",
    "model.summary()"
   ]
  },
  {
   "cell_type": "code",
   "execution_count": 29,
   "id": "5e2fd869",
   "metadata": {},
   "outputs": [],
   "source": [
    "y = pd.get_dummies(dataset['airline_sentiment']).values"
   ]
  },
  {
   "cell_type": "code",
   "execution_count": 30,
   "id": "9bd7804d",
   "metadata": {},
   "outputs": [
    {
     "name": "stdout",
     "output_type": "stream",
     "text": [
      "neutral [0 1 0]\n",
      "negative [1 0 0]\n",
      "positive [0 0 1]\n",
      "negative [1 0 0]\n",
      "negative [1 0 0]\n",
      "positive [0 0 1]\n",
      "negative [1 0 0]\n"
     ]
    },
    {
     "data": {
      "text/plain": [
       "[None, None, None, None, None, None, None]"
      ]
     },
     "execution_count": 30,
     "metadata": {},
     "output_type": "execute_result"
    }
   ],
   "source": [
    "[print(dataset['airline_sentiment'][i], y[i]) for i in range(0,7)]"
   ]
  },
  {
   "cell_type": "code",
   "execution_count": 31,
   "id": "bb8d7f16",
   "metadata": {},
   "outputs": [],
   "source": [
    "#The text are converted into numbers"
   ]
  },
  {
   "cell_type": "code",
   "execution_count": 32,
   "id": "869a2a02",
   "metadata": {},
   "outputs": [],
   "source": [
    "X_train, X_test, y_train, y_test = train_test_split(X, y, test_size=0.2, random_state=0)"
   ]
  },
  {
   "cell_type": "code",
   "execution_count": 33,
   "id": "ae2abec6",
   "metadata": {},
   "outputs": [
    {
     "name": "stdout",
     "output_type": "stream",
     "text": [
      "Epoch 1/10\n",
      "366/366 - 156s - loss: 0.6439 - accuracy: 0.7371\n",
      "Epoch 2/10\n",
      "366/366 - 151s - loss: 0.4338 - accuracy: 0.8350\n",
      "Epoch 3/10\n",
      "366/366 - 153s - loss: 0.3491 - accuracy: 0.8663\n",
      "Epoch 4/10\n",
      "366/366 - 154s - loss: 0.2795 - accuracy: 0.8957\n",
      "Epoch 5/10\n",
      "366/366 - 181s - loss: 0.2369 - accuracy: 0.9114\n",
      "Epoch 6/10\n",
      "366/366 - 162s - loss: 0.1890 - accuracy: 0.9301\n",
      "Epoch 7/10\n",
      "366/366 - 162s - loss: 0.1575 - accuracy: 0.9419\n",
      "Epoch 8/10\n",
      "366/366 - 177s - loss: 0.1391 - accuracy: 0.9480\n",
      "Epoch 9/10\n",
      "366/366 - 164s - loss: 0.1249 - accuracy: 0.9529\n",
      "Epoch 10/10\n",
      "366/366 - 165s - loss: 0.1046 - accuracy: 0.9623\n"
     ]
    },
    {
     "data": {
      "text/plain": [
       "<keras.callbacks.History at 0x16fa25d5760>"
      ]
     },
     "execution_count": 33,
     "metadata": {},
     "output_type": "execute_result"
    }
   ],
   "source": [
    "model.fit(x=X_train, y=y_train, epochs=10, batch_size=32, verbose=2)"
   ]
  },
  {
   "cell_type": "code",
   "execution_count": 34,
   "id": "4174916f",
   "metadata": {},
   "outputs": [],
   "source": [
    "model.save(r'C:\\Users\\UMANG\\Downloads\\Py_DS_ML_Bootcamp-master\\Refactored_Py_DS_ML_Bootcamp-master\\22-Deep Learning\\TensorFlow_FILES\\TensorFlow_FILES\\Notebooks\\Sentiment_analysis.h5')"
   ]
  },
  {
   "cell_type": "code",
   "execution_count": 35,
   "id": "d7ba6b91",
   "metadata": {},
   "outputs": [
    {
     "name": "stdout",
     "output_type": "stream",
     "text": [
      "united whats ua 1205 lax  newark  [0.98894763 0.00915293 0.0018995 ] [0 0 1]\n",
      "southwestair julgood1 she was traveling with me the one that got miscommunicated with [9.9909794e-01 8.3228108e-04 6.9761307e-05] [1 0 0]\n",
      "jetblue ill see you on board again soon [0.292751   0.6637361  0.04351298] [0 1 0]\n",
      "southwestair flight 1028 no delayed 15 hours  another week another delayed flight [2.4835719e-04 2.4017249e-03 9.9734986e-01] [0 0 1]\n",
      "united typically once you get the problem fixed  then the crew expires  and the delay turns into a cancelled flight [0.917762   0.07546761 0.00677034] [1 0 0]\n",
      "united he is so excellent and so reliable  happycustomer [9.9825627e-01 1.4196059e-03 3.2411987e-04] [1 0 0]\n",
      "united no still trying to get home [0.0150802  0.97236866 0.01255103] [0 0 1]\n"
     ]
    },
    {
     "data": {
      "text/plain": [
       "[None, None, None, None, None, None, None]"
      ]
     },
     "execution_count": 35,
     "metadata": {},
     "output_type": "execute_result"
    }
   ],
   "source": [
    "prediction = model.predict(X_test)\n",
    "\n",
    "[print(dataset['text'][i], prediction[i], y_test[i]) for i in range(0,7)]"
   ]
  },
  {
   "cell_type": "code",
   "execution_count": null,
   "id": "64ce9b15",
   "metadata": {},
   "outputs": [],
   "source": []
  }
 ],
 "metadata": {
  "kernelspec": {
   "display_name": "Python 3",
   "language": "python",
   "name": "python3"
  },
  "language_info": {
   "codemirror_mode": {
    "name": "ipython",
    "version": 3
   },
   "file_extension": ".py",
   "mimetype": "text/x-python",
   "name": "python",
   "nbconvert_exporter": "python",
   "pygments_lexer": "ipython3",
   "version": "3.8.8"
  }
 },
 "nbformat": 4,
 "nbformat_minor": 5
}
