{
 "cells": [
  {
   "cell_type": "code",
   "execution_count": 1,
   "id": "783e886a",
   "metadata": {},
   "outputs": [],
   "source": [
    "import numpy as np\n",
    "import pandas as pd\n",
    "import matplotlib.pyplot as plt\n",
    "import seaborn as sns\n",
    "import re\n",
    "from sklearn.model_selection import train_test_split\n",
    "from tensorflow.keras.models import Sequential, load_model\n",
    "from tensorflow.keras.layers import LSTM, Dense, Embedding, Dropout\n",
    "from tensorflow.keras.preprocessing.text import Tokenizer\n",
    "from tensorflow.keras.preprocessing.sequence import pad_sequences"
   ]
  },
  {
   "cell_type": "code",
   "execution_count": 2,
   "id": "b04009fd",
   "metadata": {},
   "outputs": [],
   "source": [
    "dataset = pd.read_csv(r'C:\\Users\\UMANG\\Downloads\\Py_DS_ML_Bootcamp-master\\Refactored_Py_DS_ML_Bootcamp-master\\22-Deep Learning\\TensorFlow_FILES\\TensorFlow_FILES\\Notebooks\\Tweets.csv')"
   ]
  },
  {
   "cell_type": "code",
   "execution_count": 3,
   "id": "1615c824",
   "metadata": {},
   "outputs": [
    {
     "data": {
      "text/html": [
       "<div>\n",
       "<style scoped>\n",
       "    .dataframe tbody tr th:only-of-type {\n",
       "        vertical-align: middle;\n",
       "    }\n",
       "\n",
       "    .dataframe tbody tr th {\n",
       "        vertical-align: top;\n",
       "    }\n",
       "\n",
       "    .dataframe thead th {\n",
       "        text-align: right;\n",
       "    }\n",
       "</style>\n",
       "<table border=\"1\" class=\"dataframe\">\n",
       "  <thead>\n",
       "    <tr style=\"text-align: right;\">\n",
       "      <th></th>\n",
       "      <th>tweet_id</th>\n",
       "      <th>airline_sentiment</th>\n",
       "      <th>airline_sentiment_confidence</th>\n",
       "      <th>negativereason</th>\n",
       "      <th>negativereason_confidence</th>\n",
       "      <th>airline</th>\n",
       "      <th>airline_sentiment_gold</th>\n",
       "      <th>name</th>\n",
       "      <th>negativereason_gold</th>\n",
       "      <th>retweet_count</th>\n",
       "      <th>text</th>\n",
       "      <th>tweet_coord</th>\n",
       "      <th>tweet_created</th>\n",
       "      <th>tweet_location</th>\n",
       "      <th>user_timezone</th>\n",
       "    </tr>\n",
       "  </thead>\n",
       "  <tbody>\n",
       "    <tr>\n",
       "      <th>0</th>\n",
       "      <td>570306133677760513</td>\n",
       "      <td>neutral</td>\n",
       "      <td>1.0000</td>\n",
       "      <td>NaN</td>\n",
       "      <td>NaN</td>\n",
       "      <td>Virgin America</td>\n",
       "      <td>NaN</td>\n",
       "      <td>cairdin</td>\n",
       "      <td>NaN</td>\n",
       "      <td>0</td>\n",
       "      <td>@VirginAmerica What @dhepburn said.</td>\n",
       "      <td>NaN</td>\n",
       "      <td>2015-02-24 11:35:52 -0800</td>\n",
       "      <td>NaN</td>\n",
       "      <td>Eastern Time (US &amp; Canada)</td>\n",
       "    </tr>\n",
       "    <tr>\n",
       "      <th>1</th>\n",
       "      <td>570301130888122368</td>\n",
       "      <td>positive</td>\n",
       "      <td>0.3486</td>\n",
       "      <td>NaN</td>\n",
       "      <td>0.0000</td>\n",
       "      <td>Virgin America</td>\n",
       "      <td>NaN</td>\n",
       "      <td>jnardino</td>\n",
       "      <td>NaN</td>\n",
       "      <td>0</td>\n",
       "      <td>@VirginAmerica plus you've added commercials t...</td>\n",
       "      <td>NaN</td>\n",
       "      <td>2015-02-24 11:15:59 -0800</td>\n",
       "      <td>NaN</td>\n",
       "      <td>Pacific Time (US &amp; Canada)</td>\n",
       "    </tr>\n",
       "    <tr>\n",
       "      <th>2</th>\n",
       "      <td>570301083672813571</td>\n",
       "      <td>neutral</td>\n",
       "      <td>0.6837</td>\n",
       "      <td>NaN</td>\n",
       "      <td>NaN</td>\n",
       "      <td>Virgin America</td>\n",
       "      <td>NaN</td>\n",
       "      <td>yvonnalynn</td>\n",
       "      <td>NaN</td>\n",
       "      <td>0</td>\n",
       "      <td>@VirginAmerica I didn't today... Must mean I n...</td>\n",
       "      <td>NaN</td>\n",
       "      <td>2015-02-24 11:15:48 -0800</td>\n",
       "      <td>Lets Play</td>\n",
       "      <td>Central Time (US &amp; Canada)</td>\n",
       "    </tr>\n",
       "    <tr>\n",
       "      <th>3</th>\n",
       "      <td>570301031407624196</td>\n",
       "      <td>negative</td>\n",
       "      <td>1.0000</td>\n",
       "      <td>Bad Flight</td>\n",
       "      <td>0.7033</td>\n",
       "      <td>Virgin America</td>\n",
       "      <td>NaN</td>\n",
       "      <td>jnardino</td>\n",
       "      <td>NaN</td>\n",
       "      <td>0</td>\n",
       "      <td>@VirginAmerica it's really aggressive to blast...</td>\n",
       "      <td>NaN</td>\n",
       "      <td>2015-02-24 11:15:36 -0800</td>\n",
       "      <td>NaN</td>\n",
       "      <td>Pacific Time (US &amp; Canada)</td>\n",
       "    </tr>\n",
       "    <tr>\n",
       "      <th>4</th>\n",
       "      <td>570300817074462722</td>\n",
       "      <td>negative</td>\n",
       "      <td>1.0000</td>\n",
       "      <td>Can't Tell</td>\n",
       "      <td>1.0000</td>\n",
       "      <td>Virgin America</td>\n",
       "      <td>NaN</td>\n",
       "      <td>jnardino</td>\n",
       "      <td>NaN</td>\n",
       "      <td>0</td>\n",
       "      <td>@VirginAmerica and it's a really big bad thing...</td>\n",
       "      <td>NaN</td>\n",
       "      <td>2015-02-24 11:14:45 -0800</td>\n",
       "      <td>NaN</td>\n",
       "      <td>Pacific Time (US &amp; Canada)</td>\n",
       "    </tr>\n",
       "  </tbody>\n",
       "</table>\n",
       "</div>"
      ],
      "text/plain": [
       "             tweet_id airline_sentiment  airline_sentiment_confidence  \\\n",
       "0  570306133677760513           neutral                        1.0000   \n",
       "1  570301130888122368          positive                        0.3486   \n",
       "2  570301083672813571           neutral                        0.6837   \n",
       "3  570301031407624196          negative                        1.0000   \n",
       "4  570300817074462722          negative                        1.0000   \n",
       "\n",
       "  negativereason  negativereason_confidence         airline  \\\n",
       "0            NaN                        NaN  Virgin America   \n",
       "1            NaN                     0.0000  Virgin America   \n",
       "2            NaN                        NaN  Virgin America   \n",
       "3     Bad Flight                     0.7033  Virgin America   \n",
       "4     Can't Tell                     1.0000  Virgin America   \n",
       "\n",
       "  airline_sentiment_gold        name negativereason_gold  retweet_count  \\\n",
       "0                    NaN     cairdin                 NaN              0   \n",
       "1                    NaN    jnardino                 NaN              0   \n",
       "2                    NaN  yvonnalynn                 NaN              0   \n",
       "3                    NaN    jnardino                 NaN              0   \n",
       "4                    NaN    jnardino                 NaN              0   \n",
       "\n",
       "                                                text tweet_coord  \\\n",
       "0                @VirginAmerica What @dhepburn said.         NaN   \n",
       "1  @VirginAmerica plus you've added commercials t...         NaN   \n",
       "2  @VirginAmerica I didn't today... Must mean I n...         NaN   \n",
       "3  @VirginAmerica it's really aggressive to blast...         NaN   \n",
       "4  @VirginAmerica and it's a really big bad thing...         NaN   \n",
       "\n",
       "               tweet_created tweet_location               user_timezone  \n",
       "0  2015-02-24 11:35:52 -0800            NaN  Eastern Time (US & Canada)  \n",
       "1  2015-02-24 11:15:59 -0800            NaN  Pacific Time (US & Canada)  \n",
       "2  2015-02-24 11:15:48 -0800      Lets Play  Central Time (US & Canada)  \n",
       "3  2015-02-24 11:15:36 -0800            NaN  Pacific Time (US & Canada)  \n",
       "4  2015-02-24 11:14:45 -0800            NaN  Pacific Time (US & Canada)  "
      ]
     },
     "execution_count": 3,
     "metadata": {},
     "output_type": "execute_result"
    }
   ],
   "source": [
    "dataset.head()"
   ]
  },
  {
   "cell_type": "code",
   "execution_count": 4,
   "id": "32a50842",
   "metadata": {},
   "outputs": [
    {
     "data": {
      "text/plain": [
       "United            3822\n",
       "US Airways        2913\n",
       "American          2759\n",
       "Southwest         2420\n",
       "Delta             2222\n",
       "Virgin America     504\n",
       "Name: airline, dtype: int64"
      ]
     },
     "execution_count": 4,
     "metadata": {},
     "output_type": "execute_result"
    }
   ],
   "source": [
    "dataset['airline'].value_counts()"
   ]
  },
  {
   "cell_type": "code",
   "execution_count": 5,
   "id": "7ceeb322",
   "metadata": {},
   "outputs": [
    {
     "data": {
      "text/html": [
       "<div>\n",
       "<style scoped>\n",
       "    .dataframe tbody tr th:only-of-type {\n",
       "        vertical-align: middle;\n",
       "    }\n",
       "\n",
       "    .dataframe tbody tr th {\n",
       "        vertical-align: top;\n",
       "    }\n",
       "\n",
       "    .dataframe thead th {\n",
       "        text-align: right;\n",
       "    }\n",
       "</style>\n",
       "<table border=\"1\" class=\"dataframe\">\n",
       "  <thead>\n",
       "    <tr style=\"text-align: right;\">\n",
       "      <th></th>\n",
       "      <th>tweet_id</th>\n",
       "      <th>airline_sentiment</th>\n",
       "      <th>airline_sentiment_confidence</th>\n",
       "      <th>negativereason</th>\n",
       "      <th>negativereason_confidence</th>\n",
       "      <th>airline</th>\n",
       "      <th>airline_sentiment_gold</th>\n",
       "      <th>name</th>\n",
       "      <th>negativereason_gold</th>\n",
       "      <th>retweet_count</th>\n",
       "      <th>text</th>\n",
       "      <th>tweet_coord</th>\n",
       "      <th>tweet_created</th>\n",
       "      <th>tweet_location</th>\n",
       "      <th>user_timezone</th>\n",
       "    </tr>\n",
       "  </thead>\n",
       "  <tbody>\n",
       "    <tr>\n",
       "      <th>0</th>\n",
       "      <td>570175202807586816</td>\n",
       "      <td>negative</td>\n",
       "      <td>1.0000</td>\n",
       "      <td>Customer Service Issue</td>\n",
       "      <td>1.0</td>\n",
       "      <td>United</td>\n",
       "      <td>NaN</td>\n",
       "      <td>sothenbethsaid</td>\n",
       "      <td>NaN</td>\n",
       "      <td>0</td>\n",
       "      <td>@united hence why I've been asking for the cus...</td>\n",
       "      <td>NaN</td>\n",
       "      <td>2015-02-24 02:55:36 -0800</td>\n",
       "      <td>Nottingham</td>\n",
       "      <td>London</td>\n",
       "    </tr>\n",
       "    <tr>\n",
       "      <th>1</th>\n",
       "      <td>570263448828780547</td>\n",
       "      <td>positive</td>\n",
       "      <td>1.0000</td>\n",
       "      <td>NaN</td>\n",
       "      <td>NaN</td>\n",
       "      <td>American</td>\n",
       "      <td>NaN</td>\n",
       "      <td>ELLLORRAC</td>\n",
       "      <td>NaN</td>\n",
       "      <td>0</td>\n",
       "      <td>@AmericanAir great customer service thanks</td>\n",
       "      <td>NaN</td>\n",
       "      <td>2015-02-24 08:46:15 -0800</td>\n",
       "      <td>NaN</td>\n",
       "      <td>Central Time (US &amp; Canada)</td>\n",
       "    </tr>\n",
       "    <tr>\n",
       "      <th>2</th>\n",
       "      <td>568884379600224258</td>\n",
       "      <td>neutral</td>\n",
       "      <td>0.6457</td>\n",
       "      <td>NaN</td>\n",
       "      <td>NaN</td>\n",
       "      <td>Delta</td>\n",
       "      <td>NaN</td>\n",
       "      <td>alixpeabody</td>\n",
       "      <td>NaN</td>\n",
       "      <td>0</td>\n",
       "      <td>@jetblue captain \"takes as lot of muscles to f...</td>\n",
       "      <td>NaN</td>\n",
       "      <td>2015-02-20 13:26:20 -0800</td>\n",
       "      <td>San Francisco, CA</td>\n",
       "      <td>Pacific Time (US &amp; Canada)</td>\n",
       "    </tr>\n",
       "    <tr>\n",
       "      <th>3</th>\n",
       "      <td>569892553690124288</td>\n",
       "      <td>positive</td>\n",
       "      <td>1.0000</td>\n",
       "      <td>NaN</td>\n",
       "      <td>NaN</td>\n",
       "      <td>US Airways</td>\n",
       "      <td>NaN</td>\n",
       "      <td>AraeB</td>\n",
       "      <td>NaN</td>\n",
       "      <td>0</td>\n",
       "      <td>@USAirways DOMINICK L. at La Guardia airport N...</td>\n",
       "      <td>NaN</td>\n",
       "      <td>2015-02-23 08:12:27 -0800</td>\n",
       "      <td>east coast</td>\n",
       "      <td>NaN</td>\n",
       "    </tr>\n",
       "    <tr>\n",
       "      <th>4</th>\n",
       "      <td>569642306640306176</td>\n",
       "      <td>neutral</td>\n",
       "      <td>0.6310</td>\n",
       "      <td>NaN</td>\n",
       "      <td>0.0</td>\n",
       "      <td>American</td>\n",
       "      <td>NaN</td>\n",
       "      <td>PepdogSez</td>\n",
       "      <td>NaN</td>\n",
       "      <td>0</td>\n",
       "      <td>@AmericanAir Am on web site requesting refund ...</td>\n",
       "      <td>NaN</td>\n",
       "      <td>2015-02-22 15:38:04 -0800</td>\n",
       "      <td>NaN</td>\n",
       "      <td>Central Time (US &amp; Canada)</td>\n",
       "    </tr>\n",
       "  </tbody>\n",
       "</table>\n",
       "</div>"
      ],
      "text/plain": [
       "             tweet_id airline_sentiment  airline_sentiment_confidence  \\\n",
       "0  570175202807586816          negative                        1.0000   \n",
       "1  570263448828780547          positive                        1.0000   \n",
       "2  568884379600224258           neutral                        0.6457   \n",
       "3  569892553690124288          positive                        1.0000   \n",
       "4  569642306640306176           neutral                        0.6310   \n",
       "\n",
       "           negativereason  negativereason_confidence     airline  \\\n",
       "0  Customer Service Issue                        1.0      United   \n",
       "1                     NaN                        NaN    American   \n",
       "2                     NaN                        NaN       Delta   \n",
       "3                     NaN                        NaN  US Airways   \n",
       "4                     NaN                        0.0    American   \n",
       "\n",
       "  airline_sentiment_gold            name negativereason_gold  retweet_count  \\\n",
       "0                    NaN  sothenbethsaid                 NaN              0   \n",
       "1                    NaN       ELLLORRAC                 NaN              0   \n",
       "2                    NaN     alixpeabody                 NaN              0   \n",
       "3                    NaN           AraeB                 NaN              0   \n",
       "4                    NaN       PepdogSez                 NaN              0   \n",
       "\n",
       "                                                text tweet_coord  \\\n",
       "0  @united hence why I've been asking for the cus...         NaN   \n",
       "1         @AmericanAir great customer service thanks         NaN   \n",
       "2  @jetblue captain \"takes as lot of muscles to f...         NaN   \n",
       "3  @USAirways DOMINICK L. at La Guardia airport N...         NaN   \n",
       "4  @AmericanAir Am on web site requesting refund ...         NaN   \n",
       "\n",
       "               tweet_created     tweet_location               user_timezone  \n",
       "0  2015-02-24 02:55:36 -0800         Nottingham                      London  \n",
       "1  2015-02-24 08:46:15 -0800                NaN  Central Time (US & Canada)  \n",
       "2  2015-02-20 13:26:20 -0800  San Francisco, CA  Pacific Time (US & Canada)  \n",
       "3  2015-02-23 08:12:27 -0800         east coast                         NaN  \n",
       "4  2015-02-22 15:38:04 -0800                NaN  Central Time (US & Canada)  "
      ]
     },
     "execution_count": 5,
     "metadata": {},
     "output_type": "execute_result"
    }
   ],
   "source": [
    "dataset = dataset.sample(frac=1).reset_index(drop=True)\n",
    "dataset.head()"
   ]
  },
  {
   "cell_type": "code",
   "execution_count": 6,
   "id": "2072f4da",
   "metadata": {},
   "outputs": [
    {
     "data": {
      "text/plain": [
       "(14640, 15)"
      ]
     },
     "execution_count": 6,
     "metadata": {},
     "output_type": "execute_result"
    }
   ],
   "source": [
    "dataset.shape"
   ]
  },
  {
   "cell_type": "markdown",
   "id": "89a322ea",
   "metadata": {},
   "source": [
    "##### Airline_sentiment coloumn to be pedicted --> To be predicted\n",
    "##### We'll also require the text column in order to get to know what the specific customer tweeted about the airline --> Input of neural network"
   ]
  },
  {
   "cell_type": "code",
   "execution_count": 7,
   "id": "63e49637",
   "metadata": {},
   "outputs": [
    {
     "data": {
      "text/html": [
       "<div>\n",
       "<style scoped>\n",
       "    .dataframe tbody tr th:only-of-type {\n",
       "        vertical-align: middle;\n",
       "    }\n",
       "\n",
       "    .dataframe tbody tr th {\n",
       "        vertical-align: top;\n",
       "    }\n",
       "\n",
       "    .dataframe thead th {\n",
       "        text-align: right;\n",
       "    }\n",
       "</style>\n",
       "<table border=\"1\" class=\"dataframe\">\n",
       "  <thead>\n",
       "    <tr style=\"text-align: right;\">\n",
       "      <th></th>\n",
       "      <th>airline_sentiment</th>\n",
       "      <th>text</th>\n",
       "    </tr>\n",
       "  </thead>\n",
       "  <tbody>\n",
       "    <tr>\n",
       "      <th>0</th>\n",
       "      <td>negative</td>\n",
       "      <td>@united hence why I've been asking for the cus...</td>\n",
       "    </tr>\n",
       "    <tr>\n",
       "      <th>1</th>\n",
       "      <td>positive</td>\n",
       "      <td>@AmericanAir great customer service thanks</td>\n",
       "    </tr>\n",
       "    <tr>\n",
       "      <th>2</th>\n",
       "      <td>neutral</td>\n",
       "      <td>@jetblue captain \"takes as lot of muscles to f...</td>\n",
       "    </tr>\n",
       "    <tr>\n",
       "      <th>3</th>\n",
       "      <td>positive</td>\n",
       "      <td>@USAirways DOMINICK L. at La Guardia airport N...</td>\n",
       "    </tr>\n",
       "    <tr>\n",
       "      <th>4</th>\n",
       "      <td>neutral</td>\n",
       "      <td>@AmericanAir Am on web site requesting refund ...</td>\n",
       "    </tr>\n",
       "    <tr>\n",
       "      <th>...</th>\n",
       "      <td>...</td>\n",
       "      <td>...</td>\n",
       "    </tr>\n",
       "    <tr>\n",
       "      <th>14635</th>\n",
       "      <td>negative</td>\n",
       "      <td>@united\\nYou really know how to piss people of...</td>\n",
       "    </tr>\n",
       "    <tr>\n",
       "      <th>14636</th>\n",
       "      <td>positive</td>\n",
       "      <td>@VirginAmerica that doesn't look to fat to me!...</td>\n",
       "    </tr>\n",
       "    <tr>\n",
       "      <th>14637</th>\n",
       "      <td>negative</td>\n",
       "      <td>@USAirways So when was I supposed to call the ...</td>\n",
       "    </tr>\n",
       "    <tr>\n",
       "      <th>14638</th>\n",
       "      <td>positive</td>\n",
       "      <td>@united she's the type of person that can make...</td>\n",
       "    </tr>\n",
       "    <tr>\n",
       "      <th>14639</th>\n",
       "      <td>positive</td>\n",
       "      <td>@JetBlue just DMed. thanks so much for address...</td>\n",
       "    </tr>\n",
       "  </tbody>\n",
       "</table>\n",
       "<p>14640 rows × 2 columns</p>\n",
       "</div>"
      ],
      "text/plain": [
       "      airline_sentiment                                               text\n",
       "0              negative  @united hence why I've been asking for the cus...\n",
       "1              positive         @AmericanAir great customer service thanks\n",
       "2               neutral  @jetblue captain \"takes as lot of muscles to f...\n",
       "3              positive  @USAirways DOMINICK L. at La Guardia airport N...\n",
       "4               neutral  @AmericanAir Am on web site requesting refund ...\n",
       "...                 ...                                                ...\n",
       "14635          negative  @united\\nYou really know how to piss people of...\n",
       "14636          positive  @VirginAmerica that doesn't look to fat to me!...\n",
       "14637          negative  @USAirways So when was I supposed to call the ...\n",
       "14638          positive  @united she's the type of person that can make...\n",
       "14639          positive  @JetBlue just DMed. thanks so much for address...\n",
       "\n",
       "[14640 rows x 2 columns]"
      ]
     },
     "execution_count": 7,
     "metadata": {},
     "output_type": "execute_result"
    }
   ],
   "source": [
    "dataset = dataset[['airline_sentiment', 'text']]\n",
    "dataset"
   ]
  },
  {
   "cell_type": "code",
   "execution_count": 8,
   "id": "40649629",
   "metadata": {},
   "outputs": [],
   "source": [
    "%matplotlib inline"
   ]
  },
  {
   "cell_type": "code",
   "execution_count": 9,
   "id": "aa873ed5",
   "metadata": {},
   "outputs": [
    {
     "data": {
      "text/plain": [
       "0        127\n",
       "1         42\n",
       "2        121\n",
       "3        121\n",
       "4        130\n",
       "        ... \n",
       "14635     77\n",
       "14636     62\n",
       "14637    140\n",
       "14638    142\n",
       "14639     66\n",
       "Name: text, Length: 14640, dtype: int64"
      ]
     },
     "execution_count": 9,
     "metadata": {},
     "output_type": "execute_result"
    }
   ],
   "source": [
    "dataset['text'].str.len()"
   ]
  },
  {
   "cell_type": "code",
   "execution_count": 10,
   "id": "692d00ae",
   "metadata": {},
   "outputs": [
    {
     "data": {
      "text/plain": [
       "<AxesSubplot:ylabel='Frequency'>"
      ]
     },
     "execution_count": 10,
     "metadata": {},
     "output_type": "execute_result"
    },
    {
     "data": {
      "image/png": "[encoded data removed]",
      "text/plain": [
       "<Figure size 432x288 with 1 Axes>"
      ]
     },
     "metadata": {
      "needs_background": "light"
     },
     "output_type": "display_data"
    }
   ],
   "source": [
    "dataset['text'].str.len().plot.hist()"
   ]
  },
  {
   "cell_type": "code",
   "execution_count": 11,
   "id": "49731fa7",
   "metadata": {},
   "outputs": [
    {
     "data": {
      "text/plain": [
       "negative    9178\n",
       "neutral     3099\n",
       "positive    2363\n",
       "Name: airline_sentiment, dtype: int64"
      ]
     },
     "execution_count": 11,
     "metadata": {},
     "output_type": "execute_result"
    }
   ],
   "source": [
    "dataset['airline_sentiment'].value_counts()"
   ]
  },
  {
   "cell_type": "code",
   "execution_count": 12,
   "id": "8f78f35f",
   "metadata": {},
   "outputs": [
    {
     "data": {
      "text/plain": [
       "<AxesSubplot:>"
      ]
     },
     "execution_count": 12,
     "metadata": {},
     "output_type": "execute_result"
    },
    {
     "data": {
      "image/png": "[encoded data removed]",
      "text/plain": [
       "<Figure size 432x288 with 1 Axes>"
      ]
     },
     "metadata": {
      "needs_background": "light"
     },
     "output_type": "display_data"
    }
   ],
   "source": [
    "dataset['airline_sentiment'].value_counts().plot.bar()"
   ]
  },
  {
   "cell_type": "markdown",
   "id": "e4efb2f0",
   "metadata": {},
   "source": [
    "#### Getting rid of symbols which are not useful, and converting the uppercase letters to lowercase"
   ]
  },
  {
   "cell_type": "code",
   "execution_count": 13,
   "id": "7aa77f6f",
   "metadata": {},
   "outputs": [
    {
     "data": {
      "text/plain": [
       "0        @united hence why i've been asking for the cus...\n",
       "1               @americanair great customer service thanks\n",
       "2        @jetblue captain \"takes as lot of muscles to f...\n",
       "3        @usairways dominick l. at la guardia airport n...\n",
       "4        @americanair am on web site requesting refund ...\n",
       "                               ...                        \n",
       "14635    @united\\nyou really know how to piss people of...\n",
       "14636    @virginamerica that doesn't look to fat to me!...\n",
       "14637    @usairways so when was i supposed to call the ...\n",
       "14638    @united she's the type of person that can make...\n",
       "14639    @jetblue just dmed. thanks so much for address...\n",
       "Name: text, Length: 14640, dtype: object"
      ]
     },
     "execution_count": 13,
     "metadata": {},
     "output_type": "execute_result"
    }
   ],
   "source": [
    "dataset['text'] = dataset['text'].apply(lambda x: x.lower())\n",
    "dataset['text']"
   ]
  },
  {
   "cell_type": "markdown",
   "id": "d79f14db",
   "metadata": {},
   "source": [
    "#### Getting rid of the symbols with the help of Regular Expressions(Regex)"
   ]
  },
  {
   "cell_type": "code",
   "execution_count": 14,
   "id": "e1017403",
   "metadata": {},
   "outputs": [
    {
     "data": {
      "text/plain": [
       "0        united hence why ive been asking for the custo...\n",
       "1                americanair great customer service thanks\n",
       "2        jetblue captain takes as lot of muscles to fro...\n",
       "3        usairways dominick l at la guardia airport nyc...\n",
       "4        americanair am on web site requesting refund f...\n",
       "                               ...                        \n",
       "14635    united\\nyou really know how to piss people off...\n",
       "14636    virginamerica that doesnt look to fat to me it...\n",
       "14637    usairways so when was i supposed to call the i...\n",
       "14638    united shes the type of person that can make a...\n",
       "14639    jetblue just dmed thanks so much for addressin...\n",
       "Name: text, Length: 14640, dtype: object"
      ]
     },
     "execution_count": 14,
     "metadata": {},
     "output_type": "execute_result"
    }
   ],
   "source": [
    "dataset['text'] = dataset['text'].apply(lambda text : re.sub('[^a-zA-Z0-9\\s]',\"\",text))\n",
    "dataset['text']"
   ]
  },
  {
   "cell_type": "markdown",
   "id": "3bb37c91",
   "metadata": {},
   "source": [
    "#### Converting the text to numbers so that the neural networks can deal with it --> Tokenizer will help with this"
   ]
  },
  {
   "cell_type": "code",
   "execution_count": 15,
   "id": "adb78f14",
   "metadata": {},
   "outputs": [
    {
     "data": {
      "text/plain": [
       "array(['united hence why ive been asking for the customer service phone number so i can speak to a real person to get this sorted out',\n",
       "       'americanair great customer service thanks',\n",
       "       'jetblue captain takes as lot of muscles to frown but just a few to smile yall ready to go flyin i mean now i am',\n",
       "       ...,\n",
       "       'usairways so when was i supposed to call the internet desk especially since my reservation told me to directly call the main 1800 number',\n",
       "       'united shes the type of person that can make a customers day i fly 100 times a year amp shes one of the top flight attendants ive had',\n",
       "       'jetblue just dmed thanks so much for addressing this so quickly'],\n",
       "      dtype=object)"
      ]
     },
     "execution_count": 15,
     "metadata": {},
     "output_type": "execute_result"
    }
   ],
   "source": [
    "dataset['text'].values"
   ]
  },
  {
   "cell_type": "code",
   "execution_count": 16,
   "id": "7051154c",
   "metadata": {},
   "outputs": [],
   "source": [
    "tokenizer = Tokenizer(num_words=5000, split=\" \")\n",
    "tokenizer.fit_on_texts(dataset['text'].values)"
   ]
  },
  {
   "cell_type": "markdown",
   "id": "c583e017",
   "metadata": {},
   "source": [
    "#### Converting the words to numbers using the text-to-sequence method, and\n",
    "#### Using pad_sequences to make the tweets of same length"
   ]
  },
  {
   "cell_type": "code",
   "execution_count": 17,
   "id": "3accbb83",
   "metadata": {},
   "outputs": [],
   "source": [
    "X = tokenizer.texts_to_sequences(dataset['text'].values)\n",
    "X = pad_sequences(X)"
   ]
  },
  {
   "cell_type": "code",
   "execution_count": 18,
   "id": "09a26c05",
   "metadata": {},
   "outputs": [
    {
     "data": {
      "text/plain": [
       "array([[   0,    0,    0,    0,    0,    0,    0,    0,    5, 2054,   69,\n",
       "         113,   45,  634,    7,    2,   50,   42,   97,  163,   44,    3,\n",
       "          34,  355,    1,    4,  536,  322,    1,   30,   29, 2055,   52],\n",
       "       [   0,    0,    0,    0,    0,    0,    0,    0,    0,    0,    0,\n",
       "           0,    0,    0,    0,    0,    0,    0,    0,    0,    0,    0,\n",
       "           0,    0,    0,    0,    0,    0,   13,  114,   50,   42,   36],\n",
       "       [   0,    0,    0,    0,    0,    0,    0,    0,    0,    0,    0,\n",
       "          17, 1001,  822,   86,  526,   18,    1,   31,   41,    4,  520,\n",
       "           1, 2455,  405,  714,    1,  128,    3,  563,   39,    3,   93],\n",
       "       [   0,    0,    0,    0,    0,    0,    0,    0,    0,    0,    0,\n",
       "           0,    0,    0,    0,    0,   12, 4598,   27,  658,  110,  501,\n",
       "         795,    2, 1054,  204,   50,   42, 4599,  619,   15,  184,  729],\n",
       "       [   0,    0,    0,    0,    0,    0,    0,    0,    0,    0,    0,\n",
       "           0,    0,    0,   13,   93,    9,  981,  390, 2223,  259,    7,\n",
       "          37,   83,    8,   20, 2718, 4600, 2456,  163,  225,   30,   20],\n",
       "       [   0,    0,    0,    0,    0,    0,    0,    0,    0,    0,    0,\n",
       "           0,    0,    0,    0,    0,    0,    0,    0,   12,   63,  328,\n",
       "         247,   43,    6,   22,  303,    1,  743,    2, 2719,   18,  581]])"
      ]
     },
     "execution_count": 18,
     "metadata": {},
     "output_type": "execute_result"
    }
   ],
   "source": [
    "X[:6]"
   ]
  },
  {
   "cell_type": "markdown",
   "id": "3cdad5a1",
   "metadata": {},
   "source": [
    "### All the arrays are of same length since they are now padded with zeroes"
   ]
  },
  {
   "cell_type": "code",
   "execution_count": 19,
   "id": "64bb59de",
   "metadata": {},
   "outputs": [
    {
     "data": {
      "text/plain": [
       "(14640, 33)"
      ]
     },
     "execution_count": 19,
     "metadata": {},
     "output_type": "execute_result"
    }
   ],
   "source": [
    "X.shape"
   ]
  },
  {
   "cell_type": "code",
   "execution_count": 20,
   "id": "fba35df4",
   "metadata": {},
   "outputs": [],
   "source": [
    "model = Sequential()\n",
    "\n",
    "model.add(Embedding(5000, 256, input_length = X.shape[1]))\n",
    "model.add(Dropout(0.3))\n",
    "\n",
    "model.add(LSTM(256, return_sequences=True, dropout = 0.3, recurrent_dropout = 0.2))\n",
    "\n",
    "model.add(LSTM(256, dropout = 0.3, recurrent_dropout = 0.2))\n",
    "\n",
    "model.add(Dense(3, activation = 'softmax'))"
   ]
  },
  {
   "cell_type": "markdown",
   "id": "701af825",
   "metadata": {},
   "source": [
    "### Softmax function is used since it is a classification problem"
   ]
  },
  {
   "cell_type": "code",
   "execution_count": 21,
   "id": "60471a80",
   "metadata": {},
   "outputs": [
    {
     "name": "stdout",
     "output_type": "stream",
     "text": [
      "Model: \"sequential\"\n",
      "_________________________________________________________________\n",
      "Layer (type)                 Output Shape              Param #   \n",
      "=================================================================\n",
      "embedding (Embedding)        (None, 33, 256)           1280000   \n",
      "_________________________________________________________________\n",
      "dropout (Dropout)            (None, 33, 256)           0         \n",
      "_________________________________________________________________\n",
      "lstm (LSTM)                  (None, 33, 256)           525312    \n",
      "_________________________________________________________________\n",
      "lstm_1 (LSTM)                (None, 256)               525312    \n",
      "_________________________________________________________________\n",
      "dense (Dense)                (None, 3)                 771       \n",
      "=================================================================\n",
      "Total params: 2,331,395\n",
      "Trainable params: 2,331,395\n",
      "Non-trainable params: 0\n",
      "_________________________________________________________________\n"
     ]
    }
   ],
   "source": [
    "model.compile(loss='categorical_crossentropy', optimizer='adam', metrics=['accuracy'])\n",
    "\n",
    "model.summary()"
   ]
  },
  {
   "cell_type": "code",
   "execution_count": 22,
   "id": "5e2fd869",
   "metadata": {},
   "outputs": [],
   "source": [
    "y = pd.get_dummies(dataset['airline_sentiment']).values"
   ]
  },
  {
   "cell_type": "code",
   "execution_count": 23,
   "id": "9bd7804d",
   "metadata": {},
   "outputs": [
    {
     "name": "stdout",
     "output_type": "stream",
     "text": [
      "negative [1 0 0]\n",
      "positive [0 0 1]\n",
      "neutral [0 1 0]\n",
      "positive [0 0 1]\n",
      "neutral [0 1 0]\n",
      "negative [1 0 0]\n",
      "positive [0 0 1]\n"
     ]
    },
    {
     "data": {
      "text/plain": [
       "[None, None, None, None, None, None, None]"
      ]
     },
     "execution_count": 23,
     "metadata": {},
     "output_type": "execute_result"
    }
   ],
   "source": [
    "[print(dataset['airline_sentiment'][i], y[i]) for i in range(0,7)]"
   ]
  },
  {
   "cell_type": "markdown",
   "id": "280fd61c",
   "metadata": {},
   "source": [
    "### The text is converted into numbers"
   ]
  },
  {
   "cell_type": "code",
   "execution_count": 24,
   "id": "869a2a02",
   "metadata": {},
   "outputs": [],
   "source": [
    "X_train, X_test, y_train, y_test = train_test_split(X, y, test_size=0.2, random_state=0)"
   ]
  },
  {
   "cell_type": "code",
   "execution_count": 25,
   "id": "ae2abec6",
   "metadata": {},
   "outputs": [
    {
     "name": "stdout",
     "output_type": "stream",
     "text": [
      "Epoch 1/10\n",
      "366/366 - 153s - loss: 0.6485 - accuracy: 0.7353\n",
      "Epoch 2/10\n",
      "366/366 - 151s - loss: 0.4327 - accuracy: 0.8320\n",
      "Epoch 3/10\n",
      "366/366 - 149s - loss: 0.3448 - accuracy: 0.8724\n",
      "Epoch 4/10\n",
      "366/366 - 151s - loss: 0.2881 - accuracy: 0.8894\n",
      "Epoch 5/10\n",
      "366/366 - 151s - loss: 0.2376 - accuracy: 0.9127\n",
      "Epoch 6/10\n",
      "366/366 - 153s - loss: 0.2006 - accuracy: 0.9275\n",
      "Epoch 7/10\n",
      "366/366 - 157s - loss: 0.1680 - accuracy: 0.9387\n",
      "Epoch 8/10\n",
      "366/366 - 178s - loss: 0.1434 - accuracy: 0.9486\n",
      "Epoch 9/10\n",
      "366/366 - 166s - loss: 0.1308 - accuracy: 0.9524\n",
      "Epoch 10/10\n",
      "366/366 - 169s - loss: 0.1097 - accuracy: 0.9600\n"
     ]
    },
    {
     "data": {
      "text/plain": [
       "<keras.callbacks.History at 0x191c170ac10>"
      ]
     },
     "execution_count": 25,
     "metadata": {},
     "output_type": "execute_result"
    }
   ],
   "source": [
    "model.fit(x=X_train, y=y_train, epochs=10, batch_size=32, verbose=2)"
   ]
  },
  {
   "cell_type": "code",
   "execution_count": 26,
   "id": "4174916f",
   "metadata": {},
   "outputs": [],
   "source": [
    "model.save(r'C:\\Users\\UMANG\\Downloads\\Py_DS_ML_Bootcamp-master\\Refactored_Py_DS_ML_Bootcamp-master\\22-Deep Learning\\TensorFlow_FILES\\TensorFlow_FILES\\Notebooks\\Sentiment_analysis.h5')"
   ]
  },
  {
   "cell_type": "code",
   "execution_count": 29,
   "id": "7a014142",
   "metadata": {},
   "outputs": [
    {
     "data": {
      "text/html": [
       "<div>\n",
       "<style scoped>\n",
       "    .dataframe tbody tr th:only-of-type {\n",
       "        vertical-align: middle;\n",
       "    }\n",
       "\n",
       "    .dataframe tbody tr th {\n",
       "        vertical-align: top;\n",
       "    }\n",
       "\n",
       "    .dataframe thead th {\n",
       "        text-align: right;\n",
       "    }\n",
       "</style>\n",
       "<table border=\"1\" class=\"dataframe\">\n",
       "  <thead>\n",
       "    <tr style=\"text-align: right;\">\n",
       "      <th></th>\n",
       "      <th>loss</th>\n",
       "      <th>accuracy</th>\n",
       "    </tr>\n",
       "  </thead>\n",
       "  <tbody>\n",
       "    <tr>\n",
       "      <th>0</th>\n",
       "      <td>0.648457</td>\n",
       "      <td>0.735314</td>\n",
       "    </tr>\n",
       "    <tr>\n",
       "      <th>1</th>\n",
       "      <td>0.432735</td>\n",
       "      <td>0.831967</td>\n",
       "    </tr>\n",
       "    <tr>\n",
       "      <th>2</th>\n",
       "      <td>0.344765</td>\n",
       "      <td>0.872353</td>\n",
       "    </tr>\n",
       "    <tr>\n",
       "      <th>3</th>\n",
       "      <td>0.288072</td>\n",
       "      <td>0.889430</td>\n",
       "    </tr>\n",
       "    <tr>\n",
       "      <th>4</th>\n",
       "      <td>0.237629</td>\n",
       "      <td>0.912739</td>\n",
       "    </tr>\n",
       "  </tbody>\n",
       "</table>\n",
       "</div>"
      ],
      "text/plain": [
       "       loss  accuracy\n",
       "0  0.648457  0.735314\n",
       "1  0.432735  0.831967\n",
       "2  0.344765  0.872353\n",
       "3  0.288072  0.889430\n",
       "4  0.237629  0.912739"
      ]
     },
     "execution_count": 29,
     "metadata": {},
     "output_type": "execute_result"
    }
   ],
   "source": [
    "loss_acc = pd.DataFrame(model.history.history)\n",
    "loss_acc.head()"
   ]
  },
  {
   "cell_type": "code",
   "execution_count": 30,
   "id": "4cdef6a6",
   "metadata": {},
   "outputs": [
    {
     "data": {
      "text/plain": [
       "<AxesSubplot:>"
      ]
     },
     "execution_count": 30,
     "metadata": {},
     "output_type": "execute_result"
    },
    {
     "data": {
      "image/png": "[encoded data removed]",
      "text/plain": [
       "<Figure size 432x288 with 1 Axes>"
      ]
     },
     "metadata": {
      "needs_background": "light"
     },
     "output_type": "display_data"
    }
   ],
   "source": [
    "loss_acc.plot()"
   ]
  },
  {
   "cell_type": "markdown",
   "id": "8070ae93",
   "metadata": {},
   "source": [
    "### Loss and accuracy is analysed"
   ]
  },
  {
   "cell_type": "code",
   "execution_count": 32,
   "id": "d7ba6b91",
   "metadata": {},
   "outputs": [
    {
     "name": "stdout",
     "output_type": "stream",
     "text": [
      "united hence why ive been asking for the customer service phone number so i can speak to a real person to get this sorted out [0.52325207 0.45409086 0.02265706] [1 0 0]\n",
      "americanair great customer service thanks [9.9796849e-01 2.0107895e-03 2.0732301e-05] [1 0 0]\n",
      "jetblue captain takes as lot of muscles to frown but just a few to smile yall ready to go flyin i mean now i am [9.9997854e-01 1.8465082e-05 3.0057556e-06] [1 0 0]\n",
      "usairways dominick l at la guardia airport nyc gives the absolute best customer service thanku checking in made easy [9.9969280e-01 1.9346052e-04 1.1385166e-04] [1 0 0]\n",
      "americanair am on web site requesting refund for cancelled flightled flight it requires numerical document number where get it [9.99860048e-01 1.05233376e-04 3.47211826e-05] [1 0 0]\n",
      "usairways how many agents do you have working to handle the thousands of calls [0.01178728 0.02799356 0.96021914] [0 1 0]\n",
      "usairways she also appreciated having her very own hashtag  lucycat [9.9998868e-01 1.0068013e-05 1.3439118e-06] [1 0 0]\n"
     ]
    },
    {
     "data": {
      "text/plain": [
       "[None, None, None, None, None, None, None]"
      ]
     },
     "execution_count": 32,
     "metadata": {},
     "output_type": "execute_result"
    }
   ],
   "source": [
    "prediction = model.predict(X_test)\n",
    "\n",
    "[print(dataset['text'][i], prediction[i], y_test[i]) for i in range(0,7)]"
   ]
  },
  {
   "cell_type": "code",
   "execution_count": null,
   "id": "64ce9b15",
   "metadata": {},
   "outputs": [],
   "source": []
  },
  {
   "cell_type": "code",
   "execution_count": null,
   "id": "6f0bd6c4",
   "metadata": {},
   "outputs": [],
   "source": []
  }
 ],
 "metadata": {
  "kernelspec": {
   "display_name": "Python 3",
   "language": "python",
   "name": "python3"
  },
  "language_info": {
   "codemirror_mode": {
    "name": "ipython",
    "version": 3
   },
   "file_extension": ".py",
   "mimetype": "text/x-python",
   "name": "python",
   "nbconvert_exporter": "python",
   "pygments_lexer": "ipython3",
   "version": "3.8.8"
  }
 },
 "nbformat": 4,
 "nbformat_minor": 5
}
